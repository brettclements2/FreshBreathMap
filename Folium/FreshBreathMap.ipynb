{
 "cells": [
  {
   "cell_type": "code",
   "execution_count": 1,
   "metadata": {},
   "outputs": [],
   "source": [
    "# import the libraries\n",
    "import folium\n",
    "import pandas as pd\n",
    "from IPython.core.display import HTML"
   ]
  },
  {
   "cell_type": "code",
   "execution_count": 2,
   "metadata": {},
   "outputs": [
    {
     "data": {
      "text/html": [
       "<div style=\"width:100%;\"><div style=\"position:relative;width:100%;height:0;padding-bottom:60%;\"><span style=\"color:#565656\">Make this Notebook Trusted to load map: File -> Trust Notebook</span><iframe src=\"about:blank\" style=\"position:absolute;width:100%;height:100%;left:0;top:0;border:none !important;\" data-html=%3C%21DOCTYPE%20html%3E%0A%3Chead%3E%20%20%20%20%0A%20%20%20%20%3Cmeta%20http-equiv%3D%22content-type%22%20content%3D%22text/html%3B%20charset%3DUTF-8%22%20/%3E%0A%20%20%20%20%0A%20%20%20%20%20%20%20%20%3Cscript%3E%0A%20%20%20%20%20%20%20%20%20%20%20%20L_NO_TOUCH%20%3D%20false%3B%0A%20%20%20%20%20%20%20%20%20%20%20%20L_DISABLE_3D%20%3D%20false%3B%0A%20%20%20%20%20%20%20%20%3C/script%3E%0A%20%20%20%20%0A%20%20%20%20%3Cstyle%3Ehtml%2C%20body%20%7Bwidth%3A%20100%25%3Bheight%3A%20100%25%3Bmargin%3A%200%3Bpadding%3A%200%3B%7D%3C/style%3E%0A%20%20%20%20%3Cstyle%3E%23map%20%7Bposition%3Aabsolute%3Btop%3A0%3Bbottom%3A0%3Bright%3A0%3Bleft%3A0%3B%7D%3C/style%3E%0A%20%20%20%20%3Cscript%20src%3D%22https%3A//cdn.jsdelivr.net/npm/leaflet%401.6.0/dist/leaflet.js%22%3E%3C/script%3E%0A%20%20%20%20%3Cscript%20src%3D%22https%3A//code.jquery.com/jquery-1.12.4.min.js%22%3E%3C/script%3E%0A%20%20%20%20%3Cscript%20src%3D%22https%3A//maxcdn.bootstrapcdn.com/bootstrap/3.2.0/js/bootstrap.min.js%22%3E%3C/script%3E%0A%20%20%20%20%3Cscript%20src%3D%22https%3A//cdnjs.cloudflare.com/ajax/libs/Leaflet.awesome-markers/2.0.2/leaflet.awesome-markers.js%22%3E%3C/script%3E%0A%20%20%20%20%3Clink%20rel%3D%22stylesheet%22%20href%3D%22https%3A//cdn.jsdelivr.net/npm/leaflet%401.6.0/dist/leaflet.css%22/%3E%0A%20%20%20%20%3Clink%20rel%3D%22stylesheet%22%20href%3D%22https%3A//maxcdn.bootstrapcdn.com/bootstrap/3.2.0/css/bootstrap.min.css%22/%3E%0A%20%20%20%20%3Clink%20rel%3D%22stylesheet%22%20href%3D%22https%3A//maxcdn.bootstrapcdn.com/bootstrap/3.2.0/css/bootstrap-theme.min.css%22/%3E%0A%20%20%20%20%3Clink%20rel%3D%22stylesheet%22%20href%3D%22https%3A//maxcdn.bootstrapcdn.com/font-awesome/4.6.3/css/font-awesome.min.css%22/%3E%0A%20%20%20%20%3Clink%20rel%3D%22stylesheet%22%20href%3D%22https%3A//cdnjs.cloudflare.com/ajax/libs/Leaflet.awesome-markers/2.0.2/leaflet.awesome-markers.css%22/%3E%0A%20%20%20%20%3Clink%20rel%3D%22stylesheet%22%20href%3D%22https%3A//cdn.jsdelivr.net/gh/python-visualization/folium/folium/templates/leaflet.awesome.rotate.min.css%22/%3E%0A%20%20%20%20%0A%20%20%20%20%20%20%20%20%20%20%20%20%3Cmeta%20name%3D%22viewport%22%20content%3D%22width%3Ddevice-width%2C%0A%20%20%20%20%20%20%20%20%20%20%20%20%20%20%20%20initial-scale%3D1.0%2C%20maximum-scale%3D1.0%2C%20user-scalable%3Dno%22%20/%3E%0A%20%20%20%20%20%20%20%20%20%20%20%20%3Cstyle%3E%0A%20%20%20%20%20%20%20%20%20%20%20%20%20%20%20%20%23map_8951c1391ffa494ab6ecfbfdb22d4c4f%20%7B%0A%20%20%20%20%20%20%20%20%20%20%20%20%20%20%20%20%20%20%20%20position%3A%20relative%3B%0A%20%20%20%20%20%20%20%20%20%20%20%20%20%20%20%20%20%20%20%20width%3A%20100.0%25%3B%0A%20%20%20%20%20%20%20%20%20%20%20%20%20%20%20%20%20%20%20%20height%3A%20100.0%25%3B%0A%20%20%20%20%20%20%20%20%20%20%20%20%20%20%20%20%20%20%20%20left%3A%200.0%25%3B%0A%20%20%20%20%20%20%20%20%20%20%20%20%20%20%20%20%20%20%20%20top%3A%200.0%25%3B%0A%20%20%20%20%20%20%20%20%20%20%20%20%20%20%20%20%7D%0A%20%20%20%20%20%20%20%20%20%20%20%20%3C/style%3E%0A%20%20%20%20%20%20%20%20%0A%3C/head%3E%0A%3Cbody%3E%20%20%20%20%0A%20%20%20%20%0A%20%20%20%20%20%20%20%20%20%20%20%20%3Cdiv%20class%3D%22folium-map%22%20id%3D%22map_8951c1391ffa494ab6ecfbfdb22d4c4f%22%20%3E%3C/div%3E%0A%20%20%20%20%20%20%20%20%0A%3C/body%3E%0A%3Cscript%3E%20%20%20%20%0A%20%20%20%20%0A%20%20%20%20%20%20%20%20%20%20%20%20var%20map_8951c1391ffa494ab6ecfbfdb22d4c4f%20%3D%20L.map%28%0A%20%20%20%20%20%20%20%20%20%20%20%20%20%20%20%20%22map_8951c1391ffa494ab6ecfbfdb22d4c4f%22%2C%0A%20%20%20%20%20%20%20%20%20%20%20%20%20%20%20%20%7B%0A%20%20%20%20%20%20%20%20%20%20%20%20%20%20%20%20%20%20%20%20center%3A%20%5B20.0%2C%200.0%5D%2C%0A%20%20%20%20%20%20%20%20%20%20%20%20%20%20%20%20%20%20%20%20crs%3A%20L.CRS.EPSG3857%2C%0A%20%20%20%20%20%20%20%20%20%20%20%20%20%20%20%20%20%20%20%20zoom%3A%202%2C%0A%20%20%20%20%20%20%20%20%20%20%20%20%20%20%20%20%20%20%20%20zoomControl%3A%20true%2C%0A%20%20%20%20%20%20%20%20%20%20%20%20%20%20%20%20%20%20%20%20preferCanvas%3A%20false%2C%0A%20%20%20%20%20%20%20%20%20%20%20%20%20%20%20%20%7D%0A%20%20%20%20%20%20%20%20%20%20%20%20%29%3B%0A%0A%20%20%20%20%20%20%20%20%20%20%20%20%0A%0A%20%20%20%20%20%20%20%20%0A%20%20%20%20%0A%20%20%20%20%20%20%20%20%20%20%20%20var%20tile_layer_61dedad1a56f4a02840d9be6c5418d59%20%3D%20L.tileLayer%28%0A%20%20%20%20%20%20%20%20%20%20%20%20%20%20%20%20%22https%3A//%7Bs%7D.tile.openstreetmap.org/%7Bz%7D/%7Bx%7D/%7By%7D.png%22%2C%0A%20%20%20%20%20%20%20%20%20%20%20%20%20%20%20%20%7B%22attribution%22%3A%20%22Data%20by%20%5Cu0026copy%3B%20%5Cu003ca%20href%3D%5C%22http%3A//openstreetmap.org%5C%22%5Cu003eOpenStreetMap%5Cu003c/a%5Cu003e%2C%20under%20%5Cu003ca%20href%3D%5C%22http%3A//www.openstreetmap.org/copyright%5C%22%5Cu003eODbL%5Cu003c/a%5Cu003e.%22%2C%20%22detectRetina%22%3A%20false%2C%20%22maxNativeZoom%22%3A%2010%2C%20%22maxZoom%22%3A%2010%2C%20%22minZoom%22%3A%202%2C%20%22noWrap%22%3A%20false%2C%20%22opacity%22%3A%201%2C%20%22subdomains%22%3A%20%22abc%22%2C%20%22tms%22%3A%20false%7D%0A%20%20%20%20%20%20%20%20%20%20%20%20%29.addTo%28map_8951c1391ffa494ab6ecfbfdb22d4c4f%29%3B%0A%20%20%20%20%20%20%20%20%0A%3C/script%3E onload=\"this.contentDocument.open();this.contentDocument.write(    decodeURIComponent(this.getAttribute('data-html')));this.contentDocument.close();\" allowfullscreen webkitallowfullscreen mozallowfullscreen></iframe></div></div>"
      ],
      "text/plain": [
       "<folium.folium.Map at 0x7f777c3f2e80>"
      ]
     },
     "execution_count": 2,
     "metadata": {},
     "output_type": "execute_result"
    }
   ],
   "source": [
    "# Make an empty map\n",
    "m = folium.Map(location=[20,0], tiles=\"OpenStreetMap\", zoom_start=2, max_zoom = 10, min_zoom=2)\n",
    "\n",
    "# Show the map\n",
    "m"
   ]
  },
  {
   "cell_type": "code",
   "execution_count": 3,
   "metadata": {},
   "outputs": [],
   "source": [
    "# Make a data frame with dummy data for now\n",
    "data = pd.DataFrame({\n",
    "   'lon':[-58, 2, 145, 30.32, -4.03, -73.57, 36.82, -38.5],\n",
    "   'lat':[-34, 49, -38, 59.93, 5.33, 45.52, -1.29, -12.97],\n",
    "   'name':['Buenos Aires', 'Paris', 'melbourne', 'St Petersbourg', 'Abidjan', 'Montreal', 'Nairobi', 'Salvador'],\n",
    "   'value':[10, 12, 40, 70, 23, 43, 100, 43]\n",
    "}, dtype=str)"
   ]
  },
  {
   "cell_type": "code",
   "execution_count": 7,
   "metadata": {},
   "outputs": [],
   "source": [
    "# add marker one by one on the map\n",
    "for i in range(0,len(data)):\n",
    "    html=f\"\"\"\n",
    "        <h1> {data.iloc[i]['name']}</h1>\n",
    "        <a href=\"https://ibb.co/ncBjKZT\"><img src=\"https://i.ibb.co/swCqXkh/Austin-Pet-Co-Perfect-Fur.jpg\" width=\"300\" height=\"400 alt=\"Austin-Pet-Co-Perfect-Fur\" border=\"0\" /></a>\n",
    "        </p>\n",
    "        <p>And that's a <a href=\"https://www.python-graph-gallery.com\">link</a></p>\n",
    "        \"\"\"\n",
    "    iframe = folium.IFrame(html=html, width=500, height=500)\n",
    "    popup = folium.Popup(iframe, max_width=2650)\n",
    "    folium.Marker(\n",
    "        location=[data.iloc[i]['lat'], data.iloc[i]['lon']],\n",
    "        popup=popup\n",
    "    ).add_to(m)\n",
    "    "
   ]
  },
  {
   "cell_type": "code",
   "execution_count": 8,
   "metadata": {
    "scrolled": false
   },
   "outputs": [
    {
     "data": {
      "text/html": [
       "<div style=\"width:100%;\"><div style=\"position:relative;width:100%;height:0;padding-bottom:60%;\"><span style=\"color:#565656\">Make this Notebook Trusted to load map: File -> Trust Notebook</span><iframe src=\"about:blank\" style=\"position:absolute;width:100%;height:100%;left:0;top:0;border:none !important;\" data-html=%3C%21DOCTYPE%20html%3E%0A%3Chead%3E%20%20%20%20%0A%20%20%20%20%3Cmeta%20http-equiv%3D%22content-type%22%20content%3D%22text/html%3B%20charset%3DUTF-8%22%20/%3E%0A%20%20%20%20%0A%20%20%20%20%20%20%20%20%3Cscript%3E%0A%20%20%20%20%20%20%20%20%20%20%20%20L_NO_TOUCH%20%3D%20false%3B%0A%20%20%20%20%20%20%20%20%20%20%20%20L_DISABLE_3D%20%3D%20false%3B%0A%20%20%20%20%20%20%20%20%3C/script%3E%0A%20%20%20%20%0A%20%20%20%20%3Cstyle%3Ehtml%2C%20body%20%7Bwidth%3A%20100%25%3Bheight%3A%20100%25%3Bmargin%3A%200%3Bpadding%3A%200%3B%7D%3C/style%3E%0A%20%20%20%20%3Cstyle%3E%23map%20%7Bposition%3Aabsolute%3Btop%3A0%3Bbottom%3A0%3Bright%3A0%3Bleft%3A0%3B%7D%3C/style%3E%0A%20%20%20%20%3Cscript%20src%3D%22https%3A//cdn.jsdelivr.net/npm/leaflet%401.6.0/dist/leaflet.js%22%3E%3C/script%3E%0A%20%20%20%20%3Cscript%20src%3D%22https%3A//code.jquery.com/jquery-1.12.4.min.js%22%3E%3C/script%3E%0A%20%20%20%20%3Cscript%20src%3D%22https%3A//maxcdn.bootstrapcdn.com/bootstrap/3.2.0/js/bootstrap.min.js%22%3E%3C/script%3E%0A%20%20%20%20%3Cscript%20src%3D%22https%3A//cdnjs.cloudflare.com/ajax/libs/Leaflet.awesome-markers/2.0.2/leaflet.awesome-markers.js%22%3E%3C/script%3E%0A%20%20%20%20%3Clink%20rel%3D%22stylesheet%22%20href%3D%22https%3A//cdn.jsdelivr.net/npm/leaflet%401.6.0/dist/leaflet.css%22/%3E%0A%20%20%20%20%3Clink%20rel%3D%22stylesheet%22%20href%3D%22https%3A//maxcdn.bootstrapcdn.com/bootstrap/3.2.0/css/bootstrap.min.css%22/%3E%0A%20%20%20%20%3Clink%20rel%3D%22stylesheet%22%20href%3D%22https%3A//maxcdn.bootstrapcdn.com/bootstrap/3.2.0/css/bootstrap-theme.min.css%22/%3E%0A%20%20%20%20%3Clink%20rel%3D%22stylesheet%22%20href%3D%22https%3A//maxcdn.bootstrapcdn.com/font-awesome/4.6.3/css/font-awesome.min.css%22/%3E%0A%20%20%20%20%3Clink%20rel%3D%22stylesheet%22%20href%3D%22https%3A//cdnjs.cloudflare.com/ajax/libs/Leaflet.awesome-markers/2.0.2/leaflet.awesome-markers.css%22/%3E%0A%20%20%20%20%3Clink%20rel%3D%22stylesheet%22%20href%3D%22https%3A//cdn.jsdelivr.net/gh/python-visualization/folium/folium/templates/leaflet.awesome.rotate.min.css%22/%3E%0A%20%20%20%20%0A%20%20%20%20%20%20%20%20%20%20%20%20%3Cmeta%20name%3D%22viewport%22%20content%3D%22width%3Ddevice-width%2C%0A%20%20%20%20%20%20%20%20%20%20%20%20%20%20%20%20initial-scale%3D1.0%2C%20maximum-scale%3D1.0%2C%20user-scalable%3Dno%22%20/%3E%0A%20%20%20%20%20%20%20%20%20%20%20%20%3Cstyle%3E%0A%20%20%20%20%20%20%20%20%20%20%20%20%20%20%20%20%23map_8951c1391ffa494ab6ecfbfdb22d4c4f%20%7B%0A%20%20%20%20%20%20%20%20%20%20%20%20%20%20%20%20%20%20%20%20position%3A%20relative%3B%0A%20%20%20%20%20%20%20%20%20%20%20%20%20%20%20%20%20%20%20%20width%3A%20100.0%25%3B%0A%20%20%20%20%20%20%20%20%20%20%20%20%20%20%20%20%20%20%20%20height%3A%20100.0%25%3B%0A%20%20%20%20%20%20%20%20%20%20%20%20%20%20%20%20%20%20%20%20left%3A%200.0%25%3B%0A%20%20%20%20%20%20%20%20%20%20%20%20%20%20%20%20%20%20%20%20top%3A%200.0%25%3B%0A%20%20%20%20%20%20%20%20%20%20%20%20%20%20%20%20%7D%0A%20%20%20%20%20%20%20%20%20%20%20%20%3C/style%3E%0A%20%20%20%20%20%20%20%20%0A%3C/head%3E%0A%3Cbody%3E%20%20%20%20%0A%20%20%20%20%0A%20%20%20%20%20%20%20%20%20%20%20%20%3Cdiv%20class%3D%22folium-map%22%20id%3D%22map_8951c1391ffa494ab6ecfbfdb22d4c4f%22%20%3E%3C/div%3E%0A%20%20%20%20%20%20%20%20%0A%3C/body%3E%0A%3Cscript%3E%20%20%20%20%0A%20%20%20%20%0A%20%20%20%20%20%20%20%20%20%20%20%20var%20map_8951c1391ffa494ab6ecfbfdb22d4c4f%20%3D%20L.map%28%0A%20%20%20%20%20%20%20%20%20%20%20%20%20%20%20%20%22map_8951c1391ffa494ab6ecfbfdb22d4c4f%22%2C%0A%20%20%20%20%20%20%20%20%20%20%20%20%20%20%20%20%7B%0A%20%20%20%20%20%20%20%20%20%20%20%20%20%20%20%20%20%20%20%20center%3A%20%5B20.0%2C%200.0%5D%2C%0A%20%20%20%20%20%20%20%20%20%20%20%20%20%20%20%20%20%20%20%20crs%3A%20L.CRS.EPSG3857%2C%0A%20%20%20%20%20%20%20%20%20%20%20%20%20%20%20%20%20%20%20%20zoom%3A%202%2C%0A%20%20%20%20%20%20%20%20%20%20%20%20%20%20%20%20%20%20%20%20zoomControl%3A%20true%2C%0A%20%20%20%20%20%20%20%20%20%20%20%20%20%20%20%20%20%20%20%20preferCanvas%3A%20false%2C%0A%20%20%20%20%20%20%20%20%20%20%20%20%20%20%20%20%7D%0A%20%20%20%20%20%20%20%20%20%20%20%20%29%3B%0A%0A%20%20%20%20%20%20%20%20%20%20%20%20%0A%0A%20%20%20%20%20%20%20%20%0A%20%20%20%20%0A%20%20%20%20%20%20%20%20%20%20%20%20var%20tile_layer_61dedad1a56f4a02840d9be6c5418d59%20%3D%20L.tileLayer%28%0A%20%20%20%20%20%20%20%20%20%20%20%20%20%20%20%20%22https%3A//%7Bs%7D.tile.openstreetmap.org/%7Bz%7D/%7Bx%7D/%7By%7D.png%22%2C%0A%20%20%20%20%20%20%20%20%20%20%20%20%20%20%20%20%7B%22attribution%22%3A%20%22Data%20by%20%5Cu0026copy%3B%20%5Cu003ca%20href%3D%5C%22http%3A//openstreetmap.org%5C%22%5Cu003eOpenStreetMap%5Cu003c/a%5Cu003e%2C%20under%20%5Cu003ca%20href%3D%5C%22http%3A//www.openstreetmap.org/copyright%5C%22%5Cu003eODbL%5Cu003c/a%5Cu003e.%22%2C%20%22detectRetina%22%3A%20false%2C%20%22maxNativeZoom%22%3A%2010%2C%20%22maxZoom%22%3A%2010%2C%20%22minZoom%22%3A%202%2C%20%22noWrap%22%3A%20false%2C%20%22opacity%22%3A%201%2C%20%22subdomains%22%3A%20%22abc%22%2C%20%22tms%22%3A%20false%7D%0A%20%20%20%20%20%20%20%20%20%20%20%20%29.addTo%28map_8951c1391ffa494ab6ecfbfdb22d4c4f%29%3B%0A%20%20%20%20%20%20%20%20%0A%20%20%20%20%0A%20%20%20%20%20%20%20%20%20%20%20%20var%20marker_22dbd7608db84ae39b24755c8ae874d0%20%3D%20L.marker%28%0A%20%20%20%20%20%20%20%20%20%20%20%20%20%20%20%20%5B-34.0%2C%20-58.0%5D%2C%0A%20%20%20%20%20%20%20%20%20%20%20%20%20%20%20%20%7B%7D%0A%20%20%20%20%20%20%20%20%20%20%20%20%29.addTo%28map_8951c1391ffa494ab6ecfbfdb22d4c4f%29%3B%0A%20%20%20%20%20%20%20%20%0A%20%20%20%20%0A%20%20%20%20%20%20%20%20var%20popup_849b983531624ff5a0a6fba374a745c9%20%3D%20L.popup%28%7B%22maxWidth%22%3A%202650%7D%29%3B%0A%0A%20%20%20%20%20%20%20%20%0A%20%20%20%20%20%20%20%20%20%20%20%20var%20i_frame_78e7515be8974c3ca52a976adc199c17%20%3D%20%24%28%60%3Ciframe%20src%3D%22data%3Atext/html%3Bcharset%3Dutf-8%3Bbase64%2CCiAgICAKICAgICAgICA8aDE%2BIEJ1ZW5vcyBBaXJlczwvaDE%2BCiAgICAgICAgPGEgaHJlZj0iaHR0cHM6Ly9pYmIuY28vbmNCaktaVCI%2BPGltZyBzcmM9Imh0dHBzOi8vaS5pYmIuY28vc3dDcVhraC9BdXN0aW4tUGV0LUNvLVBlcmZlY3QtRnVyLmpwZyIgd2lkdGg9IjMwMCIgaGVpZ2h0PSI0MDAgYWx0PSJBdXN0aW4tUGV0LUNvLVBlcmZlY3QtRnVyIiBib3JkZXI9IjAiIC8%2BPC9hPgogICAgICAgIDwvcD4KICAgICAgICA8cD5BbmQgdGhhdCdzIGEgPGEgaHJlZj0iaHR0cHM6Ly93d3cucHl0aG9uLWdyYXBoLWdhbGxlcnkuY29tIj5saW5rPC9hPjwvcD4KICAgICAgICA%3D%22%20width%3D%22500%22%20style%3D%22border%3Anone%20%21important%3B%22%20height%3D%22500%22%3E%3C/iframe%3E%60%29%5B0%5D%3B%0A%20%20%20%20%20%20%20%20%20%20%20%20popup_849b983531624ff5a0a6fba374a745c9.setContent%28i_frame_78e7515be8974c3ca52a976adc199c17%29%3B%0A%20%20%20%20%20%20%20%20%0A%0A%20%20%20%20%20%20%20%20marker_22dbd7608db84ae39b24755c8ae874d0.bindPopup%28popup_849b983531624ff5a0a6fba374a745c9%29%0A%20%20%20%20%20%20%20%20%3B%0A%0A%20%20%20%20%20%20%20%20%0A%20%20%20%20%0A%20%20%20%20%0A%20%20%20%20%20%20%20%20%20%20%20%20var%20marker_2d7ccd96358744eabdcd071be99333ec%20%3D%20L.marker%28%0A%20%20%20%20%20%20%20%20%20%20%20%20%20%20%20%20%5B49.0%2C%202.0%5D%2C%0A%20%20%20%20%20%20%20%20%20%20%20%20%20%20%20%20%7B%7D%0A%20%20%20%20%20%20%20%20%20%20%20%20%29.addTo%28map_8951c1391ffa494ab6ecfbfdb22d4c4f%29%3B%0A%20%20%20%20%20%20%20%20%0A%20%20%20%20%0A%20%20%20%20%20%20%20%20var%20popup_b6e2d4cfdffb4ce7a3b37595b9a97b88%20%3D%20L.popup%28%7B%22maxWidth%22%3A%202650%7D%29%3B%0A%0A%20%20%20%20%20%20%20%20%0A%20%20%20%20%20%20%20%20%20%20%20%20var%20i_frame_678b8237320a4b78b3a481ee8d0c188b%20%3D%20%24%28%60%3Ciframe%20src%3D%22data%3Atext/html%3Bcharset%3Dutf-8%3Bbase64%2CCiAgICAKICAgICAgICA8aDE%2BIFBhcmlzPC9oMT4KICAgICAgICA8YSBocmVmPSJodHRwczovL2liYi5jby9uY0JqS1pUIj48aW1nIHNyYz0iaHR0cHM6Ly9pLmliYi5jby9zd0NxWGtoL0F1c3Rpbi1QZXQtQ28tUGVyZmVjdC1GdXIuanBnIiB3aWR0aD0iMzAwIiBoZWlnaHQ9IjQwMCBhbHQ9IkF1c3Rpbi1QZXQtQ28tUGVyZmVjdC1GdXIiIGJvcmRlcj0iMCIgLz48L2E%2BCiAgICAgICAgPC9wPgogICAgICAgIDxwPkFuZCB0aGF0J3MgYSA8YSBocmVmPSJodHRwczovL3d3dy5weXRob24tZ3JhcGgtZ2FsbGVyeS5jb20iPmxpbms8L2E%2BPC9wPgogICAgICAgIA%3D%3D%22%20width%3D%22500%22%20style%3D%22border%3Anone%20%21important%3B%22%20height%3D%22500%22%3E%3C/iframe%3E%60%29%5B0%5D%3B%0A%20%20%20%20%20%20%20%20%20%20%20%20popup_b6e2d4cfdffb4ce7a3b37595b9a97b88.setContent%28i_frame_678b8237320a4b78b3a481ee8d0c188b%29%3B%0A%20%20%20%20%20%20%20%20%0A%0A%20%20%20%20%20%20%20%20marker_2d7ccd96358744eabdcd071be99333ec.bindPopup%28popup_b6e2d4cfdffb4ce7a3b37595b9a97b88%29%0A%20%20%20%20%20%20%20%20%3B%0A%0A%20%20%20%20%20%20%20%20%0A%20%20%20%20%0A%20%20%20%20%0A%20%20%20%20%20%20%20%20%20%20%20%20var%20marker_05b1f0e21a2a41418244326d0c4e12c0%20%3D%20L.marker%28%0A%20%20%20%20%20%20%20%20%20%20%20%20%20%20%20%20%5B-38.0%2C%20145.0%5D%2C%0A%20%20%20%20%20%20%20%20%20%20%20%20%20%20%20%20%7B%7D%0A%20%20%20%20%20%20%20%20%20%20%20%20%29.addTo%28map_8951c1391ffa494ab6ecfbfdb22d4c4f%29%3B%0A%20%20%20%20%20%20%20%20%0A%20%20%20%20%0A%20%20%20%20%20%20%20%20var%20popup_79459fc9b14941778795290ac812758d%20%3D%20L.popup%28%7B%22maxWidth%22%3A%202650%7D%29%3B%0A%0A%20%20%20%20%20%20%20%20%0A%20%20%20%20%20%20%20%20%20%20%20%20var%20i_frame_9a53f3d344a94483b6b4bbb20b026a74%20%3D%20%24%28%60%3Ciframe%20src%3D%22data%3Atext/html%3Bcharset%3Dutf-8%3Bbase64%2CCiAgICAKICAgICAgICA8aDE%2BIG1lbGJvdXJuZTwvaDE%2BCiAgICAgICAgPGEgaHJlZj0iaHR0cHM6Ly9pYmIuY28vbmNCaktaVCI%2BPGltZyBzcmM9Imh0dHBzOi8vaS5pYmIuY28vc3dDcVhraC9BdXN0aW4tUGV0LUNvLVBlcmZlY3QtRnVyLmpwZyIgd2lkdGg9IjMwMCIgaGVpZ2h0PSI0MDAgYWx0PSJBdXN0aW4tUGV0LUNvLVBlcmZlY3QtRnVyIiBib3JkZXI9IjAiIC8%2BPC9hPgogICAgICAgIDwvcD4KICAgICAgICA8cD5BbmQgdGhhdCdzIGEgPGEgaHJlZj0iaHR0cHM6Ly93d3cucHl0aG9uLWdyYXBoLWdhbGxlcnkuY29tIj5saW5rPC9hPjwvcD4KICAgICAgICA%3D%22%20width%3D%22500%22%20style%3D%22border%3Anone%20%21important%3B%22%20height%3D%22500%22%3E%3C/iframe%3E%60%29%5B0%5D%3B%0A%20%20%20%20%20%20%20%20%20%20%20%20popup_79459fc9b14941778795290ac812758d.setContent%28i_frame_9a53f3d344a94483b6b4bbb20b026a74%29%3B%0A%20%20%20%20%20%20%20%20%0A%0A%20%20%20%20%20%20%20%20marker_05b1f0e21a2a41418244326d0c4e12c0.bindPopup%28popup_79459fc9b14941778795290ac812758d%29%0A%20%20%20%20%20%20%20%20%3B%0A%0A%20%20%20%20%20%20%20%20%0A%20%20%20%20%0A%20%20%20%20%0A%20%20%20%20%20%20%20%20%20%20%20%20var%20marker_97d2500cfa6b420f888f41237887107d%20%3D%20L.marker%28%0A%20%20%20%20%20%20%20%20%20%20%20%20%20%20%20%20%5B59.93%2C%2030.32%5D%2C%0A%20%20%20%20%20%20%20%20%20%20%20%20%20%20%20%20%7B%7D%0A%20%20%20%20%20%20%20%20%20%20%20%20%29.addTo%28map_8951c1391ffa494ab6ecfbfdb22d4c4f%29%3B%0A%20%20%20%20%20%20%20%20%0A%20%20%20%20%0A%20%20%20%20%20%20%20%20var%20popup_ec3fff7282ba4a85944d79bf8d688fec%20%3D%20L.popup%28%7B%22maxWidth%22%3A%202650%7D%29%3B%0A%0A%20%20%20%20%20%20%20%20%0A%20%20%20%20%20%20%20%20%20%20%20%20var%20i_frame_13ea0a4bd56742e8a4e69a1800b47ba2%20%3D%20%24%28%60%3Ciframe%20src%3D%22data%3Atext/html%3Bcharset%3Dutf-8%3Bbase64%2CCiAgICAKICAgICAgICA8aDE%2BIFN0IFBldGVyc2JvdXJnPC9oMT4KICAgICAgICA8YSBocmVmPSJodHRwczovL2liYi5jby9uY0JqS1pUIj48aW1nIHNyYz0iaHR0cHM6Ly9pLmliYi5jby9zd0NxWGtoL0F1c3Rpbi1QZXQtQ28tUGVyZmVjdC1GdXIuanBnIiB3aWR0aD0iMzAwIiBoZWlnaHQ9IjQwMCBhbHQ9IkF1c3Rpbi1QZXQtQ28tUGVyZmVjdC1GdXIiIGJvcmRlcj0iMCIgLz48L2E%2BCiAgICAgICAgPC9wPgogICAgICAgIDxwPkFuZCB0aGF0J3MgYSA8YSBocmVmPSJodHRwczovL3d3dy5weXRob24tZ3JhcGgtZ2FsbGVyeS5jb20iPmxpbms8L2E%2BPC9wPgogICAgICAgIA%3D%3D%22%20width%3D%22500%22%20style%3D%22border%3Anone%20%21important%3B%22%20height%3D%22500%22%3E%3C/iframe%3E%60%29%5B0%5D%3B%0A%20%20%20%20%20%20%20%20%20%20%20%20popup_ec3fff7282ba4a85944d79bf8d688fec.setContent%28i_frame_13ea0a4bd56742e8a4e69a1800b47ba2%29%3B%0A%20%20%20%20%20%20%20%20%0A%0A%20%20%20%20%20%20%20%20marker_97d2500cfa6b420f888f41237887107d.bindPopup%28popup_ec3fff7282ba4a85944d79bf8d688fec%29%0A%20%20%20%20%20%20%20%20%3B%0A%0A%20%20%20%20%20%20%20%20%0A%20%20%20%20%0A%20%20%20%20%0A%20%20%20%20%20%20%20%20%20%20%20%20var%20marker_acf87cab51d740d196234ac8987ef9c1%20%3D%20L.marker%28%0A%20%20%20%20%20%20%20%20%20%20%20%20%20%20%20%20%5B5.33%2C%20-4.03%5D%2C%0A%20%20%20%20%20%20%20%20%20%20%20%20%20%20%20%20%7B%7D%0A%20%20%20%20%20%20%20%20%20%20%20%20%29.addTo%28map_8951c1391ffa494ab6ecfbfdb22d4c4f%29%3B%0A%20%20%20%20%20%20%20%20%0A%20%20%20%20%0A%20%20%20%20%20%20%20%20var%20popup_2ab86431c9d24f0896413c040609aae6%20%3D%20L.popup%28%7B%22maxWidth%22%3A%202650%7D%29%3B%0A%0A%20%20%20%20%20%20%20%20%0A%20%20%20%20%20%20%20%20%20%20%20%20var%20i_frame_b83feb6f495941178830a50e468e61c3%20%3D%20%24%28%60%3Ciframe%20src%3D%22data%3Atext/html%3Bcharset%3Dutf-8%3Bbase64%2CCiAgICAKICAgICAgICA8aDE%2BIEFiaWRqYW48L2gxPgogICAgICAgIDxhIGhyZWY9Imh0dHBzOi8vaWJiLmNvL25jQmpLWlQiPjxpbWcgc3JjPSJodHRwczovL2kuaWJiLmNvL3N3Q3FYa2gvQXVzdGluLVBldC1Dby1QZXJmZWN0LUZ1ci5qcGciIHdpZHRoPSIzMDAiIGhlaWdodD0iNDAwIGFsdD0iQXVzdGluLVBldC1Dby1QZXJmZWN0LUZ1ciIgYm9yZGVyPSIwIiAvPjwvYT4KICAgICAgICA8L3A%2BCiAgICAgICAgPHA%2BQW5kIHRoYXQncyBhIDxhIGhyZWY9Imh0dHBzOi8vd3d3LnB5dGhvbi1ncmFwaC1nYWxsZXJ5LmNvbSI%2BbGluazwvYT48L3A%2BCiAgICAgICAg%22%20width%3D%22500%22%20style%3D%22border%3Anone%20%21important%3B%22%20height%3D%22500%22%3E%3C/iframe%3E%60%29%5B0%5D%3B%0A%20%20%20%20%20%20%20%20%20%20%20%20popup_2ab86431c9d24f0896413c040609aae6.setContent%28i_frame_b83feb6f495941178830a50e468e61c3%29%3B%0A%20%20%20%20%20%20%20%20%0A%0A%20%20%20%20%20%20%20%20marker_acf87cab51d740d196234ac8987ef9c1.bindPopup%28popup_2ab86431c9d24f0896413c040609aae6%29%0A%20%20%20%20%20%20%20%20%3B%0A%0A%20%20%20%20%20%20%20%20%0A%20%20%20%20%0A%20%20%20%20%0A%20%20%20%20%20%20%20%20%20%20%20%20var%20marker_abc27552cf4f45829ebc3748e60e2dce%20%3D%20L.marker%28%0A%20%20%20%20%20%20%20%20%20%20%20%20%20%20%20%20%5B45.52%2C%20-73.57%5D%2C%0A%20%20%20%20%20%20%20%20%20%20%20%20%20%20%20%20%7B%7D%0A%20%20%20%20%20%20%20%20%20%20%20%20%29.addTo%28map_8951c1391ffa494ab6ecfbfdb22d4c4f%29%3B%0A%20%20%20%20%20%20%20%20%0A%20%20%20%20%0A%20%20%20%20%20%20%20%20var%20popup_9c17b01ffd7143b99e5d9b2b7d760a8e%20%3D%20L.popup%28%7B%22maxWidth%22%3A%202650%7D%29%3B%0A%0A%20%20%20%20%20%20%20%20%0A%20%20%20%20%20%20%20%20%20%20%20%20var%20i_frame_a043be0eaafa4a78852eb1b744fdddec%20%3D%20%24%28%60%3Ciframe%20src%3D%22data%3Atext/html%3Bcharset%3Dutf-8%3Bbase64%2CCiAgICAKICAgICAgICA8aDE%2BIE1vbnRyZWFsPC9oMT4KICAgICAgICA8YSBocmVmPSJodHRwczovL2liYi5jby9uY0JqS1pUIj48aW1nIHNyYz0iaHR0cHM6Ly9pLmliYi5jby9zd0NxWGtoL0F1c3Rpbi1QZXQtQ28tUGVyZmVjdC1GdXIuanBnIiB3aWR0aD0iMzAwIiBoZWlnaHQ9IjQwMCBhbHQ9IkF1c3Rpbi1QZXQtQ28tUGVyZmVjdC1GdXIiIGJvcmRlcj0iMCIgLz48L2E%2BCiAgICAgICAgPC9wPgogICAgICAgIDxwPkFuZCB0aGF0J3MgYSA8YSBocmVmPSJodHRwczovL3d3dy5weXRob24tZ3JhcGgtZ2FsbGVyeS5jb20iPmxpbms8L2E%2BPC9wPgogICAgICAgIA%3D%3D%22%20width%3D%22500%22%20style%3D%22border%3Anone%20%21important%3B%22%20height%3D%22500%22%3E%3C/iframe%3E%60%29%5B0%5D%3B%0A%20%20%20%20%20%20%20%20%20%20%20%20popup_9c17b01ffd7143b99e5d9b2b7d760a8e.setContent%28i_frame_a043be0eaafa4a78852eb1b744fdddec%29%3B%0A%20%20%20%20%20%20%20%20%0A%0A%20%20%20%20%20%20%20%20marker_abc27552cf4f45829ebc3748e60e2dce.bindPopup%28popup_9c17b01ffd7143b99e5d9b2b7d760a8e%29%0A%20%20%20%20%20%20%20%20%3B%0A%0A%20%20%20%20%20%20%20%20%0A%20%20%20%20%0A%20%20%20%20%0A%20%20%20%20%20%20%20%20%20%20%20%20var%20marker_194e0727cbda479d8f381bc9e2b35460%20%3D%20L.marker%28%0A%20%20%20%20%20%20%20%20%20%20%20%20%20%20%20%20%5B-1.29%2C%2036.82%5D%2C%0A%20%20%20%20%20%20%20%20%20%20%20%20%20%20%20%20%7B%7D%0A%20%20%20%20%20%20%20%20%20%20%20%20%29.addTo%28map_8951c1391ffa494ab6ecfbfdb22d4c4f%29%3B%0A%20%20%20%20%20%20%20%20%0A%20%20%20%20%0A%20%20%20%20%20%20%20%20var%20popup_7f387905f287427e845e969516967919%20%3D%20L.popup%28%7B%22maxWidth%22%3A%202650%7D%29%3B%0A%0A%20%20%20%20%20%20%20%20%0A%20%20%20%20%20%20%20%20%20%20%20%20var%20i_frame_074dc3fd95544893be57c7a82a60da32%20%3D%20%24%28%60%3Ciframe%20src%3D%22data%3Atext/html%3Bcharset%3Dutf-8%3Bbase64%2CCiAgICAKICAgICAgICA8aDE%2BIE5haXJvYmk8L2gxPgogICAgICAgIDxhIGhyZWY9Imh0dHBzOi8vaWJiLmNvL25jQmpLWlQiPjxpbWcgc3JjPSJodHRwczovL2kuaWJiLmNvL3N3Q3FYa2gvQXVzdGluLVBldC1Dby1QZXJmZWN0LUZ1ci5qcGciIHdpZHRoPSIzMDAiIGhlaWdodD0iNDAwIGFsdD0iQXVzdGluLVBldC1Dby1QZXJmZWN0LUZ1ciIgYm9yZGVyPSIwIiAvPjwvYT4KICAgICAgICA8L3A%2BCiAgICAgICAgPHA%2BQW5kIHRoYXQncyBhIDxhIGhyZWY9Imh0dHBzOi8vd3d3LnB5dGhvbi1ncmFwaC1nYWxsZXJ5LmNvbSI%2BbGluazwvYT48L3A%2BCiAgICAgICAg%22%20width%3D%22500%22%20style%3D%22border%3Anone%20%21important%3B%22%20height%3D%22500%22%3E%3C/iframe%3E%60%29%5B0%5D%3B%0A%20%20%20%20%20%20%20%20%20%20%20%20popup_7f387905f287427e845e969516967919.setContent%28i_frame_074dc3fd95544893be57c7a82a60da32%29%3B%0A%20%20%20%20%20%20%20%20%0A%0A%20%20%20%20%20%20%20%20marker_194e0727cbda479d8f381bc9e2b35460.bindPopup%28popup_7f387905f287427e845e969516967919%29%0A%20%20%20%20%20%20%20%20%3B%0A%0A%20%20%20%20%20%20%20%20%0A%20%20%20%20%0A%20%20%20%20%0A%20%20%20%20%20%20%20%20%20%20%20%20var%20marker_716996c996c343d3beb6fe4ffe2186c4%20%3D%20L.marker%28%0A%20%20%20%20%20%20%20%20%20%20%20%20%20%20%20%20%5B-12.97%2C%20-38.5%5D%2C%0A%20%20%20%20%20%20%20%20%20%20%20%20%20%20%20%20%7B%7D%0A%20%20%20%20%20%20%20%20%20%20%20%20%29.addTo%28map_8951c1391ffa494ab6ecfbfdb22d4c4f%29%3B%0A%20%20%20%20%20%20%20%20%0A%20%20%20%20%0A%20%20%20%20%20%20%20%20var%20popup_287a29587ad5412cb6e75448dc31664d%20%3D%20L.popup%28%7B%22maxWidth%22%3A%202650%7D%29%3B%0A%0A%20%20%20%20%20%20%20%20%0A%20%20%20%20%20%20%20%20%20%20%20%20var%20i_frame_3b610002c09c4bc881523a6c673d252d%20%3D%20%24%28%60%3Ciframe%20src%3D%22data%3Atext/html%3Bcharset%3Dutf-8%3Bbase64%2CCiAgICAKICAgICAgICA8aDE%2BIFNhbHZhZG9yPC9oMT4KICAgICAgICA8YSBocmVmPSJodHRwczovL2liYi5jby9uY0JqS1pUIj48aW1nIHNyYz0iaHR0cHM6Ly9pLmliYi5jby9zd0NxWGtoL0F1c3Rpbi1QZXQtQ28tUGVyZmVjdC1GdXIuanBnIiB3aWR0aD0iMzAwIiBoZWlnaHQ9IjQwMCBhbHQ9IkF1c3Rpbi1QZXQtQ28tUGVyZmVjdC1GdXIiIGJvcmRlcj0iMCIgLz48L2E%2BCiAgICAgICAgPC9wPgogICAgICAgIDxwPkFuZCB0aGF0J3MgYSA8YSBocmVmPSJodHRwczovL3d3dy5weXRob24tZ3JhcGgtZ2FsbGVyeS5jb20iPmxpbms8L2E%2BPC9wPgogICAgICAgIA%3D%3D%22%20width%3D%22500%22%20style%3D%22border%3Anone%20%21important%3B%22%20height%3D%22500%22%3E%3C/iframe%3E%60%29%5B0%5D%3B%0A%20%20%20%20%20%20%20%20%20%20%20%20popup_287a29587ad5412cb6e75448dc31664d.setContent%28i_frame_3b610002c09c4bc881523a6c673d252d%29%3B%0A%20%20%20%20%20%20%20%20%0A%0A%20%20%20%20%20%20%20%20marker_716996c996c343d3beb6fe4ffe2186c4.bindPopup%28popup_287a29587ad5412cb6e75448dc31664d%29%0A%20%20%20%20%20%20%20%20%3B%0A%0A%20%20%20%20%20%20%20%20%0A%20%20%20%20%0A%3C/script%3E onload=\"this.contentDocument.open();this.contentDocument.write(    decodeURIComponent(this.getAttribute('data-html')));this.contentDocument.close();\" allowfullscreen webkitallowfullscreen mozallowfullscreen></iframe></div></div>"
      ],
      "text/plain": [
       "<folium.folium.Map at 0x7f777c3f2e80>"
      ]
     },
     "execution_count": 8,
     "metadata": {},
     "output_type": "execute_result"
    }
   ],
   "source": [
    "m"
   ]
  },
  {
   "cell_type": "code",
   "execution_count": 5,
   "metadata": {},
   "outputs": [
    {
     "data": {
      "text/plain": [
       "'/dsa/home/bwc64b/jupyter/Folium'"
      ]
     },
     "execution_count": 5,
     "metadata": {},
     "output_type": "execute_result"
    }
   ],
   "source": [
    "import os \n",
    "\n",
    "#current dir\n",
    "cwd = os.getcwd()\n",
    "cwd"
   ]
  },
  {
   "cell_type": "code",
   "execution_count": 6,
   "metadata": {},
   "outputs": [],
   "source": [
    "#save as html file\n",
    "m.save('/dsa/home/bwc64b/jupyter/FreshBreathMap.html')"
   ]
  },
  {
   "cell_type": "code",
   "execution_count": null,
   "metadata": {},
   "outputs": [],
   "source": []
  }
 ],
 "metadata": {
  "kernelspec": {
   "display_name": "Python 3",
   "language": "python",
   "name": "python3"
  },
  "language_info": {
   "codemirror_mode": {
    "name": "ipython",
    "version": 3
   },
   "file_extension": ".py",
   "mimetype": "text/x-python",
   "name": "python",
   "nbconvert_exporter": "python",
   "pygments_lexer": "ipython3",
   "version": "3.7.3"
  }
 },
 "nbformat": 4,
 "nbformat_minor": 2
}
